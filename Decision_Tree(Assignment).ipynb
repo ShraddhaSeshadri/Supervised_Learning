{
 "cells": [
  {
   "cell_type": "code",
   "execution_count": 1,
   "id": "a31a2a15",
   "metadata": {},
   "outputs": [],
   "source": [
    "import pandas as pd\n",
    "from sklearn.tree import DecisionTreeClassifier\n",
    "from sklearn.model_selection import train_test_split\n",
    "from sklearn.metrics import confusion_matrix, accuracy_score"
   ]
  },
  {
   "cell_type": "code",
   "execution_count": 2,
   "id": "296f42a0",
   "metadata": {},
   "outputs": [],
   "source": [
    "# Load the dataset\n",
    "data = pd.read_csv(\"diabetes.csv\")"
   ]
  },
  {
   "cell_type": "code",
   "execution_count": 3,
   "id": "0ea4e2fb",
   "metadata": {},
   "outputs": [],
   "source": [
    "# Extract Outcome column as Y variable\n",
    "Y = data[\"Outcome\"]"
   ]
  },
  {
   "cell_type": "code",
   "execution_count": 4,
   "id": "f030d2a9",
   "metadata": {},
   "outputs": [],
   "source": [
    "# Extract every column except Outcome column as X variable\n",
    "X = data.drop(\"Outcome\", axis=1)"
   ]
  },
  {
   "cell_type": "code",
   "execution_count": 5,
   "id": "c40ce80e",
   "metadata": {},
   "outputs": [],
   "source": [
    "# Divide dataset into training and testing data in 70:30 ratio\n",
    "X_train, X_test, Y_train, Y_test = train_test_split(X, Y, test_size=0.3, random_state=42)"
   ]
  },
  {
   "cell_type": "code",
   "execution_count": 6,
   "id": "ce9f3ec9",
   "metadata": {},
   "outputs": [
    {
     "data": {
      "text/plain": [
       "DecisionTreeClassifier()"
      ]
     },
     "execution_count": 6,
     "metadata": {},
     "output_type": "execute_result"
    }
   ],
   "source": [
    "# Create Decision Tree Classifier and fit the model on training data\n",
    "dtc = DecisionTreeClassifier()\n",
    "dtc.fit(X_train, Y_train)"
   ]
  },
  {
   "cell_type": "code",
   "execution_count": 7,
   "id": "811c34c4",
   "metadata": {},
   "outputs": [],
   "source": [
    "# Predict the outcome of test data\n",
    "Y_pred = dtc.predict(X_test)"
   ]
  },
  {
   "cell_type": "code",
   "execution_count": 8,
   "id": "de924933",
   "metadata": {},
   "outputs": [],
   "source": [
    "# Calculate confusion matrix and accuracy score\n",
    "cm = confusion_matrix(Y_test, Y_pred)\n",
    "accuracy = accuracy_score(Y_test, Y_pred)"
   ]
  },
  {
   "cell_type": "code",
   "execution_count": 9,
   "id": "69d485fc",
   "metadata": {},
   "outputs": [
    {
     "name": "stdout",
     "output_type": "stream",
     "text": [
      "Confusion matrix:\n",
      "[[105  46]\n",
      " [ 24  56]]\n",
      "Accuracy score: 0.696969696969697\n"
     ]
    }
   ],
   "source": [
    "print(\"Confusion matrix:\")\n",
    "print(cm)\n",
    "print(\"Accuracy score:\", accuracy)"
   ]
  },
  {
   "cell_type": "code",
   "execution_count": null,
   "id": "5c87f2ab",
   "metadata": {},
   "outputs": [],
   "source": []
  }
 ],
 "metadata": {
  "kernelspec": {
   "display_name": "Python 3 (ipykernel)",
   "language": "python",
   "name": "python3"
  },
  "language_info": {
   "codemirror_mode": {
    "name": "ipython",
    "version": 3
   },
   "file_extension": ".py",
   "mimetype": "text/x-python",
   "name": "python",
   "nbconvert_exporter": "python",
   "pygments_lexer": "ipython3",
   "version": "3.9.7"
  }
 },
 "nbformat": 4,
 "nbformat_minor": 5
}
