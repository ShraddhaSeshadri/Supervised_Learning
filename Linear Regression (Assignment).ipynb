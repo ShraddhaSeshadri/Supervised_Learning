{
 "cells": [
  {
   "cell_type": "code",
   "execution_count": 1,
   "id": "44dc960c",
   "metadata": {},
   "outputs": [],
   "source": [
    "import pandas as pd\n",
    "from sklearn.model_selection import train_test_split\n",
    "from sklearn.linear_model import LinearRegression\n",
    "from sklearn.metrics import r2_score"
   ]
  },
  {
   "cell_type": "code",
   "execution_count": 2,
   "id": "3dd4e9a2",
   "metadata": {},
   "outputs": [],
   "source": [
    "# Load the dataset using pandas\n",
    "data = pd.read_csv('data.csv')"
   ]
  },
  {
   "cell_type": "code",
   "execution_count": 3,
   "id": "39d52993",
   "metadata": {},
   "outputs": [],
   "source": [
    "# Extract data from YearsExperience column is a variable named X\n",
    "X = data['YearsExperience'].values.reshape(-1, 1)\n",
    "# Extract data from salary column is a variable named Y\n",
    "Y = data['Salary'].values"
   ]
  },
  {
   "cell_type": "code",
   "execution_count": 4,
   "id": "a248020f",
   "metadata": {},
   "outputs": [],
   "source": [
    "# Divide the dataset into two parts for training and testing in 66% and 33% proportion\n",
    "X_train, X_test, Y_train, Y_test = train_test_split(X, Y, test_size=0.33, random_state=0)"
   ]
  },
  {
   "cell_type": "code",
   "execution_count": 5,
   "id": "42157dbf",
   "metadata": {},
   "outputs": [
    {
     "data": {
      "text/plain": [
       "LinearRegression()"
      ]
     },
     "execution_count": 5,
     "metadata": {},
     "output_type": "execute_result"
    }
   ],
   "source": [
    "# Create and train LinearRegression Model on training set\n",
    "regressor = LinearRegression()\n",
    "regressor.fit(X_train, Y_train)"
   ]
  },
  {
   "cell_type": "code",
   "execution_count": 6,
   "id": "9a5027d3",
   "metadata": {},
   "outputs": [],
   "source": [
    "# Make predictions based on the testing set using the trained model\n",
    "Y_pred = regressor.predict(X_test)"
   ]
  },
  {
   "cell_type": "code",
   "execution_count": 7,
   "id": "11b44508",
   "metadata": {},
   "outputs": [
    {
     "name": "stdout",
     "output_type": "stream",
     "text": [
      "r2 score: 0.9749154407708353\n"
     ]
    }
   ],
   "source": [
    "# Check the performance by calculating the r2 score of the model\n",
    "r2 = r2_score(Y_test, Y_pred)\n",
    "print(\"r2 score:\", r2)"
   ]
  },
  {
   "cell_type": "code",
   "execution_count": null,
   "id": "8d7c4bcc",
   "metadata": {},
   "outputs": [],
   "source": []
  }
 ],
 "metadata": {
  "kernelspec": {
   "display_name": "Python 3 (ipykernel)",
   "language": "python",
   "name": "python3"
  },
  "language_info": {
   "codemirror_mode": {
    "name": "ipython",
    "version": 3
   },
   "file_extension": ".py",
   "mimetype": "text/x-python",
   "name": "python",
   "nbconvert_exporter": "python",
   "pygments_lexer": "ipython3",
   "version": "3.9.7"
  }
 },
 "nbformat": 4,
 "nbformat_minor": 5
}
