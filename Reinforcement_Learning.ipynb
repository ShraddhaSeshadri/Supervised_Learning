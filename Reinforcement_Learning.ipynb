{
 "cells": [
  {
   "cell_type": "code",
   "execution_count": 5,
   "id": "731e40e9",
   "metadata": {},
   "outputs": [],
   "source": [
    "import numpy as np\n",
    "import matplotlib.pyplot as plt\n",
    "\n",
    "class Actions:\n",
    "    def __init__(self, true_mean):\n",
    "        self.true_mean = true_mean\n",
    "        self.mean = 0\n",
    "        self.N = 0\n",
    "        \n",
    "    def choose(self):\n",
    "        return np.random.randn() + self.true_mean\n",
    "    \n",
    "    def update(self, x):\n",
    "        self.N += 1\n",
    "        self.mean = (1 - 1.0/self.N)*self.mean + 1.0/self.N*x\n",
    "\n",
    "def run_experiment(m1, m2, m3, eps, N):\n",
    "    actions = [Actions(m1), Actions(m2), Actions(m3)]\n",
    "    \n",
    "    data = np.empty(N)\n",
    "    \n",
    "    for i in range(N):\n",
    "        p = np.random.random()\n",
    "        if p < eps:\n",
    "            j = np.random.choice(3)\n",
    "        else:\n",
    "            j = np.argmax([a.mean for a in actions])\n",
    "        x = actions[j].choose()\n",
    "        actions[j].update(x)\n",
    "\n",
    "        data[i] = x\n",
    "    cumulative_average = np.cumsum(data) / (np.arange(N) +1)\n",
    "    \n",
    "    plt.plot(cumulative_average)\n",
    "    plt.plot(np.ones(int(N*m1)))\n",
    "    plt.plot(np.ones(int(N*m2)))\n",
    "    plt.plot(np.ones(int(N*m3)))\n",
    "    plt.xscale('log')\n",
    "    plt.show()\n",
    "    \n",
    "    for a in actions:\n",
    "        print(a.mean)\n",
    "        \n",
    "    return cumulative_average\n"
   ]
  },
  {
   "cell_type": "code",
   "execution_count": 6,
   "id": "b7e2eb2a",
   "metadata": {},
   "outputs": [
    {
     "data": {
      "image/png": "[encoded data removed]",
      "text/plain": [
       "<Figure size 432x288 with 1 Axes>"
      ]
     },
     "metadata": {
      "needs_background": "light"
     },
     "output_type": "display_data"
    },
    {
     "name": "stdout",
     "output_type": "stream",
     "text": [
      "1.0148357511391708\n",
      "1.9976706122334065\n",
      "3.000472978180936\n"
     ]
    }
   ],
   "source": [
    "c_1 = run_experiment(1.0,2.0,3.0,0.05,100000)"
   ]
  },
  {
   "cell_type": "code",
   "execution_count": null,
   "id": "c1514aa9",
   "metadata": {},
   "outputs": [],
   "source": []
  }
 ],
 "metadata": {
  "kernelspec": {
   "display_name": "Python 3 (ipykernel)",
   "language": "python",
   "name": "python3"
  },
  "language_info": {
   "codemirror_mode": {
    "name": "ipython",
    "version": 3
   },
   "file_extension": ".py",
   "mimetype": "text/x-python",
   "name": "python",
   "nbconvert_exporter": "python",
   "pygments_lexer": "ipython3",
   "version": "3.9.7"
  }
 },
 "nbformat": 4,
 "nbformat_minor": 5
}
