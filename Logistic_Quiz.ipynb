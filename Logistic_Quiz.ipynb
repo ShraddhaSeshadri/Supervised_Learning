{
 "cells": [
  {
   "cell_type": "code",
   "execution_count": 35,
   "id": "72303250",
   "metadata": {},
   "outputs": [],
   "source": [
    "import pandas as pd\n",
    "from sklearn.metrics import precision_score"
   ]
  },
  {
   "cell_type": "code",
   "execution_count": 26,
   "id": "b757713d",
   "metadata": {},
   "outputs": [],
   "source": [
    "df = pd.read_csv('census-income .csv')"
   ]
  },
  {
   "cell_type": "code",
   "execution_count": 27,
   "id": "93325fc7",
   "metadata": {},
   "outputs": [
    {
     "data": {
      "text/plain": [
       "Index(['age', 'workclass', 'fnlwgt', 'education', 'education-num',\n",
       "       'marital-status', 'occupation', 'relationship', 'race', 'sex',\n",
       "       'capital-gain', 'capital-loss', 'hours-per-week', 'native-country',\n",
       "       'annual_income'],\n",
       "      dtype='object')"
      ]
     },
     "execution_count": 27,
     "metadata": {},
     "output_type": "execute_result"
    }
   ],
   "source": [
    "df.columns"
   ]
  },
  {
   "cell_type": "code",
   "execution_count": 6,
   "id": "8fbeb2e2",
   "metadata": {},
   "outputs": [
    {
     "name": "stdout",
     "output_type": "stream",
     "text": [
      "Number of types of occupations: 15\n"
     ]
    }
   ],
   "source": [
    "occupation = df['occupation']\n",
    "num_occupations = occupation.nunique()\n",
    "print(\"Number of types of occupations:\", num_occupations)"
   ]
  },
  {
   "cell_type": "code",
   "execution_count": 11,
   "id": "5a1a5655",
   "metadata": {},
   "outputs": [
    {
     "name": "stdout",
     "output_type": "stream",
     "text": [
      "The number of people working as tech support and have an annual income greater than 50k is 283.\n"
     ]
    }
   ],
   "source": [
    "\n",
    "# Count the number of people who are working as tech support and have an annual income greater than 50k\n",
    "count = len(df[(df['occupation'] == 'Tech-support') & (df['annual_income'] == '>50K')])\n",
    "\n",
    "print(f\"The number of people working as tech support and have an annual income greater than 50k is {count}.\")"
   ]
  },
  {
   "cell_type": "code",
   "execution_count": 14,
   "id": "76ea4834",
   "metadata": {},
   "outputs": [
    {
     "name": "stdout",
     "output_type": "stream",
     "text": [
      "Total number of missing values in the dataset: 0\n"
     ]
    }
   ],
   "source": [
    "missing_values = df.isnull().sum().sum()\n",
    "print(\"Total number of missing values in the dataset:\", missing_values)"
   ]
  },
  {
   "cell_type": "code",
   "execution_count": 18,
   "id": "85504fb2",
   "metadata": {},
   "outputs": [
    {
     "name": "stdout",
     "output_type": "stream",
     "text": [
      "Number of people: 2561\n"
     ]
    }
   ],
   "source": [
    "num_people = len(df[(df['workclass'] == 'Private') & (df['native-country'] != 'United-States')])\n",
    "\n",
    "print(\"Number of people:\", num_people)"
   ]
  },
  {
   "cell_type": "code",
   "execution_count": 20,
   "id": "1e004112",
   "metadata": {},
   "outputs": [
    {
     "name": "stdout",
     "output_type": "stream",
     "text": [
      "Number of people who meet the conditions: 24798\n"
     ]
    }
   ],
   "source": [
    "count = ((df['hours-per-week'] >= 40) | (df['annual_income'] == ' <=50K')).sum()\n",
    "\n",
    "print(\"Number of people who meet the conditions:\", count)"
   ]
  },
  {
   "cell_type": "code",
   "execution_count": 29,
   "id": "dcd517aa",
   "metadata": {},
   "outputs": [
    {
     "name": "stdout",
     "output_type": "stream",
     "text": [
      "Index(['age', 'workclass', 'fnlwgt', 'education', 'education-num',\n",
      "       'marital-status', 'occupation', 'relationship', 'race', 'sex',\n",
      "       'capital-gain', 'capital-loss', 'hours-per-week', 'native-country',\n",
      "       'annual_income'],\n",
      "      dtype='object')\n"
     ]
    },
    {
     "data": {
      "text/plain": [
       "LogisticRegression()"
      ]
     },
     "execution_count": 29,
     "metadata": {},
     "output_type": "execute_result"
    }
   ],
   "source": [
    "import pandas as pd\n",
    "from sklearn.preprocessing import LabelEncoder\n",
    "from sklearn.model_selection import train_test_split\n",
    "from sklearn.linear_model import LogisticRegression\n",
    "\n",
    "# load the dataset\n",
    "df = pd.read_csv('census-income .csv')\n",
    "print(df.columns)\n",
    "# rename the last column\n",
    "df = df.rename(columns={\"50000+\": \"Annual Income\"})\n",
    "\n",
    "# remove missing values\n",
    "df = df.dropna()\n",
    "\n",
    "# convert categorical data to numerical data\n",
    "categorical_cols = [\"workclass\", \"education\", \"marital-status\", \"occupation\", \"relationship\", \"race\", \"sex\", \"native-country\"]\n",
    "for col in categorical_cols:\n",
    "    le = LabelEncoder()\n",
    "    df[col] = le.fit_transform(df[col])\n",
    "\n",
    "# split the data into train and test sets\n",
    "X = df.drop(columns=[\"annual_income\"])\n",
    "y = df[\"annual_income\"]\n",
    "X_train, X_test, y_train, y_test = train_test_split(X, y, test_size=0.3, random_state=0)\n",
    "\n",
    "# build a logistic regression model\n",
    "lr = LogisticRegression()\n",
    "lr.fit(X_train, y_train)"
   ]
  },
  {
   "cell_type": "code",
   "execution_count": 30,
   "id": "0b6c34d4",
   "metadata": {},
   "outputs": [
    {
     "name": "stdout",
     "output_type": "stream",
     "text": [
      "Accuracy score: 0.80090080868052\n"
     ]
    }
   ],
   "source": [
    "from sklearn.metrics import accuracy_score\n",
    "\n",
    "# fit the model on train data\n",
    "lr.fit(X_train, y_train)\n",
    "\n",
    "# make predictions on test data\n",
    "y_pred = lr.predict(X_test)\n",
    "\n",
    "# calculate accuracy score\n",
    "acc_score = accuracy_score(y_test, y_pred)\n",
    "\n",
    "print(\"Accuracy score:\", acc_score)"
   ]
  },
  {
   "cell_type": "code",
   "execution_count": 31,
   "id": "e1275c2d",
   "metadata": {},
   "outputs": [
    {
     "name": "stderr",
     "output_type": "stream",
     "text": [
      "C:\\Users\\HP\\AppData\\Local\\Temp/ipykernel_10296/3523056207.py:4: FutureWarning: The pandas.np module is deprecated and will be removed from pandas in a future version. Import numpy directly instead.\n",
      "  df = df.replace(' ?', pd.np.nan)\n"
     ]
    },
    {
     "name": "stdout",
     "output_type": "stream",
     "text": [
      "Accuracy: 0.80090080868052\n"
     ]
    }
   ],
   "source": [
    "df = df.rename(columns={14: 'Annual Income'})\n",
    "\n",
    "# remove missing values\n",
    "df = df.replace(' ?', pd.np.nan)\n",
    "df = df.dropna()\n",
    "\n",
    "# encode categorical data\n",
    "categorical_cols = [1, 3, 5, 6, 7, 8, 9, 13]\n",
    "for col in categorical_cols:\n",
    "    le = LabelEncoder()\n",
    "    df.iloc[:, col] = le.fit_transform(df.iloc[:, col])\n",
    "\n",
    "# split the data into train and test sets\n",
    "X = df.iloc[:, :-1]\n",
    "y = df.iloc[:, -1]\n",
    "X_train, X_test, y_train, y_test = train_test_split(X, y, test_size=0.3, random_state=0)\n",
    "\n",
    "# build the logistic regression model\n",
    "model = LogisticRegression()\n",
    "model.fit(X_train, y_train)\n",
    "\n",
    "# calculate the accuracy score\n",
    "y_pred = model.predict(X_test)\n",
    "accuracy = accuracy_score(y_test, y_pred)\n",
    "\n",
    "print(\"Accuracy:\", accuracy)"
   ]
  },
  {
   "cell_type": "code",
   "execution_count": 33,
   "id": "f7b0d9de",
   "metadata": {},
   "outputs": [
    {
     "name": "stdout",
     "output_type": "stream",
     "text": [
      "Specificity: 0.9712434183880113\n"
     ]
    }
   ],
   "source": [
    "from sklearn.metrics import confusion_matrix\n",
    "\n",
    "# predict using the test data\n",
    "y_pred = model.predict(X_test)\n",
    "\n",
    "# generate confusion matrix\n",
    "conf_mat = confusion_matrix(y_test, y_pred)\n",
    "\n",
    "# calculate specificity\n",
    "specificity = conf_mat[0, 0] / (conf_mat[0, 0] + conf_mat[0, 1])\n",
    "print(\"Specificity:\", specificity)"
   ]
  },
  {
   "cell_type": "code",
   "execution_count": 37,
   "id": "e5375886",
   "metadata": {},
   "outputs": [
    {
     "name": "stdout",
     "output_type": "stream",
     "text": [
      "Precision (when target is <=50K): 0.8059601165135559\n"
     ]
    }
   ],
   "source": [
    "from sklearn.metrics import precision_score\n",
    "\n",
    "y_pred = model.predict(X_test)\n",
    "precision = precision_score(y_test, y_pred, pos_label='<=50K')\n",
    "\n",
    "print(\"Precision (when target is <=50K):\", precision)"
   ]
  },
  {
   "cell_type": "code",
   "execution_count": 38,
   "id": "828f0dee",
   "metadata": {},
   "outputs": [
    {
     "name": "stdout",
     "output_type": "stream",
     "text": [
      "              precision    recall  f1-score   support\n",
      "\n",
      "       <=50K       0.81      0.97      0.88      7407\n",
      "        >50K       0.75      0.27      0.39      2362\n",
      "\n",
      "    accuracy                           0.80      9769\n",
      "   macro avg       0.78      0.62      0.64      9769\n",
      "weighted avg       0.79      0.80      0.76      9769\n",
      "\n"
     ]
    }
   ],
   "source": [
    "from sklearn.metrics import classification_report\n",
    "\n",
    "report = classification_report(y_test, y_pred)\n",
    "print(report)"
   ]
  },
  {
   "cell_type": "code",
   "execution_count": 39,
   "id": "9e30c670",
   "metadata": {},
   "outputs": [
    {
     "name": "stdout",
     "output_type": "stream",
     "text": [
      "F1 score (when target is True): 0.39313572542901715\n"
     ]
    }
   ],
   "source": [
    "from sklearn.metrics import f1_score\n",
    "\n",
    "y_pred = model.predict(X_test)\n",
    "f1 = f1_score(y_test, y_pred, pos_label='>50K')\n",
    "\n",
    "print(\"F1 score (when target is True):\", f1)"
   ]
  },
  {
   "cell_type": "code",
   "execution_count": 40,
   "id": "30232bb4",
   "metadata": {},
   "outputs": [
    {
     "name": "stdout",
     "output_type": "stream",
     "text": [
      "Number of records correctly classified: 7824\n"
     ]
    }
   ],
   "source": [
    "from sklearn.metrics import accuracy_score\n",
    "\n",
    "y_pred = model.predict(X_test)\n",
    "accuracy = accuracy_score(y_test, y_pred)\n",
    "n_correct = int(accuracy * len(y_test))\n",
    "print(\"Number of records correctly classified:\", n_correct)"
   ]
  },
  {
   "cell_type": "code",
   "execution_count": null,
   "id": "9cfebc1b",
   "metadata": {},
   "outputs": [],
   "source": []
  }
 ],
 "metadata": {
  "kernelspec": {
   "display_name": "Python 3 (ipykernel)",
   "language": "python",
   "name": "python3"
  },
  "language_info": {
   "codemirror_mode": {
    "name": "ipython",
    "version": 3
   },
   "file_extension": ".py",
   "mimetype": "text/x-python",
   "name": "python",
   "nbconvert_exporter": "python",
   "pygments_lexer": "ipython3",
   "version": "3.9.7"
  }
 },
 "nbformat": 4,
 "nbformat_minor": 5
}
