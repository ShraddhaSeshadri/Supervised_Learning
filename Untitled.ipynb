{
 "cells": [
  {
   "cell_type": "markdown",
   "id": "5d6468e8",
   "metadata": {},
   "source": [
    "# An Introduction to Association Rules in Python\n",
    "\n",
    "##### Association rules is a rule-based learning method used to draw frequent patterns and correlations from datasets such as transactional and relational data.\n",
    "\n",
    "##### In essence it computes the co-occurence statistics between items, in the form of an implication expression (X → Y).\n",
    "\n",
    "##### For instance, in customer basket analysis, {diaper} → {beer} means if diaper is bought, then beer is put into basket.\n",
    "\n",
    "#### 4 fundamental concepts in association rules:\n",
    "\n",
    "* *(Not a Rule)* Support: number of times X occurs over all instances. \n",
    "\n",
    "* Support(X→Y) is the probability of co-occurence of both items within all data.\n",
    "\n",
    "* Confidence(X→Y) is the probability of Y occurs given that X is present.\n",
    "\n",
    "* Lift(X→Y) is the probability of Y being bought given that X is present, taking into account the popularity of Y as well.\n",
    "\n",
    "* Conviction(X→Y) is the measure of implication. A value > 1 indicates that Y is highly depending on X.\n",
    "\n",
    "So basically it is probability/statistics. A simple but useful decision making tool for a wide range of usages such as market basket analysis, customer relationship management, recommender system, marketing activities, network traffic analysis, intrusion detection (fraud & malware detection) and bioinformatics."
   ]
  },
  {
   "cell_type": "markdown",
   "id": "aa5fb581",
   "metadata": {},
   "source": [
    "### Before getting into the formnulas and terminology, let's begin by a simple example.\n",
    "\n",
    "Mlxtend is a rich and useful library for machine learning. It provides methods in association rules with a major algorithm *apriori*.\n",
    "\n",
    "You can install mlxtend via pip or conda."
   ]
  },
  {
   "cell_type": "code",
   "execution_count": null,
   "id": "d107f097",
   "metadata": {},
   "outputs": [],
   "source": []
  }
 ],
 "metadata": {
  "kernelspec": {
   "display_name": "Python 3 (ipykernel)",
   "language": "python",
   "name": "python3"
  },
  "language_info": {
   "codemirror_mode": {
    "name": "ipython",
    "version": 3
   },
   "file_extension": ".py",
   "mimetype": "text/x-python",
   "name": "python",
   "nbconvert_exporter": "python",
   "pygments_lexer": "ipython3",
   "version": "3.9.7"
  }
 },
 "nbformat": 4,
 "nbformat_minor": 5
}
