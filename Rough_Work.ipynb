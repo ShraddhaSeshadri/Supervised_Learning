{
 "cells": [
  {
   "cell_type": "code",
   "execution_count": 14,
   "id": "53f13619",
   "metadata": {},
   "outputs": [
    {
     "name": "stdout",
     "output_type": "stream",
     "text": [
      "Number of pokemon from the 5th generation: 165\n"
     ]
    }
   ],
   "source": [
    "import pandas as pd\n",
    "pokemon = pd.read_csv('pokemon.csv')\n",
    "gen_5_pokemon = pokemon[pokemon['Generation'] == 5]\n",
    "num_gen_5_pokemon = len(gen_5_pokemon)\n",
    "print(\"Number of pokemon from the 5th generation:\", num_gen_5_pokemon)"
   ]
  },
  {
   "cell_type": "code",
   "execution_count": 2,
   "id": "a8d5f61d",
   "metadata": {},
   "outputs": [
    {
     "name": "stdout",
     "output_type": "stream",
     "text": [
      "3\n"
     ]
    }
   ],
   "source": [
    "max_defense = pokemon['Defense'].max()\n",
    "num_pokemon = pokemon[pokemon['Defense'] == max_defense]['Defense'].count()\n",
    "print(num_pokemon)"
   ]
  },
  {
   "cell_type": "code",
   "execution_count": 15,
   "id": "2efb431d",
   "metadata": {},
   "outputs": [
    {
     "data": {
      "text/plain": [
       "Index(['#', 'Name', 'Type 1', 'Type 2', 'Total', 'HP', 'Attack', 'Defense',\n",
       "       'Sp. Atk', 'Sp. Def', 'Speed', 'Generation', 'Legendary'],\n",
       "      dtype='object')"
      ]
     },
     "execution_count": 15,
     "metadata": {},
     "output_type": "execute_result"
    }
   ],
   "source": [
    "pokemon.columns"
   ]
  },
  {
   "cell_type": "code",
   "execution_count": 4,
   "id": "4b5c8fb8",
   "metadata": {},
   "outputs": [
    {
     "name": "stdout",
     "output_type": "stream",
     "text": [
      "# does not have a relationship with the Generation column.\n",
      "Name does not have a relationship with the Generation column.\n",
      "Type 1 does not have a relationship with the Generation column.\n",
      "Type 2 does not have a relationship with the Generation column.\n",
      "Total does not have a relationship with the Generation column.\n",
      "HP does not have a relationship with the Generation column.\n",
      "Attack does not have a relationship with the Generation column.\n",
      "Defense does not have a relationship with the Generation column.\n",
      "Sp. Atk does not have a relationship with the Generation column.\n",
      "Sp. Def does not have a relationship with the Generation column.\n",
      "Speed does not have a relationship with the Generation column.\n",
      "Legendary does not have a relationship with the Generation column.\n"
     ]
    },
    {
     "name": "stderr",
     "output_type": "stream",
     "text": [
      "C:\\Users\\HP\\AppData\\Local\\Temp/ipykernel_11720/1603234430.py:13: FutureWarning: elementwise comparison failed; returning scalar instead, but in the future will perform elementwise comparison\n",
      "  if all(value in generations for value in column_values):\n"
     ]
    }
   ],
   "source": [
    "import pandas as pd\n",
    "\n",
    "# load the pokemon dataset\n",
    "pokemon_df = pd.read_csv(\"pokemon.csv\")\n",
    "\n",
    "# get the unique values of the generation column\n",
    "generations = pokemon_df['Generation'].unique()\n",
    "\n",
    "# iterate through each column and check if it has a relationship with the generation column\n",
    "for column in pokemon_df.columns:\n",
    "    if column != 'Generation':\n",
    "        column_values = pokemon_df[column].unique()\n",
    "        if all(value in generations for value in column_values):\n",
    "            print(column, \"has a relationship with the Generation column.\")\n",
    "        else:\n",
    "            print(column, \"does not have a relationship with the Generation column.\")"
   ]
  },
  {
   "cell_type": "code",
   "execution_count": 5,
   "id": "1d471d7e",
   "metadata": {},
   "outputs": [
    {
     "name": "stdout",
     "output_type": "stream",
     "text": [
      "Accuracy: 0.9375\n"
     ]
    },
    {
     "name": "stderr",
     "output_type": "stream",
     "text": [
      "C:\\Users\\HP\\AppData\\Local\\Temp/ipykernel_11720/3524589173.py:10: FutureWarning: The default value of numeric_only in DataFrame.median is deprecated. In a future version, it will default to False. In addition, specifying 'numeric_only=None' is deprecated. Select only valid columns or specify the value of numeric_only to silence this warning.\n",
      "  pokemon_df.fillna(pokemon_df.median(), inplace=True)\n",
      "C:\\Users\\HP\\anaconda3\\lib\\site-packages\\sklearn\\linear_model\\_logistic.py:763: ConvergenceWarning: lbfgs failed to converge (status=1):\n",
      "STOP: TOTAL NO. of ITERATIONS REACHED LIMIT.\n",
      "\n",
      "Increase the number of iterations (max_iter) or scale the data as shown in:\n",
      "    https://scikit-learn.org/stable/modules/preprocessing.html\n",
      "Please also refer to the documentation for alternative solver options:\n",
      "    https://scikit-learn.org/stable/modules/linear_model.html#logistic-regression\n",
      "  n_iter_i = _check_optimize_result(\n"
     ]
    }
   ],
   "source": [
    "import pandas as pd\n",
    "from sklearn.model_selection import train_test_split\n",
    "from sklearn.linear_model import LogisticRegression\n",
    "from sklearn.metrics import accuracy_score\n",
    "\n",
    "# Load dataset\n",
    "pokemon_df = pd.read_csv('pokemon.csv')\n",
    "\n",
    "# Fill missing values with median\n",
    "pokemon_df.fillna(pokemon_df.median(), inplace=True)\n",
    "\n",
    "# Split dataset into training and testing sets\n",
    "train_df, test_df = train_test_split(pokemon_df, test_size=0.3, random_state=1)\n",
    "\n",
    "# Define X and y for training and testing sets\n",
    "train_X = train_df.drop(['Name', 'Type 1', 'Type 2', 'Legendary'], axis=1)\n",
    "train_y = train_df['Legendary']\n",
    "test_X = test_df.drop(['Name', 'Type 1', 'Type 2', 'Legendary'], axis=1)\n",
    "test_y = test_df['Legendary']\n",
    "\n",
    "# Train logistic regression model\n",
    "lr_model = LogisticRegression()\n",
    "lr_model.fit(train_X, train_y)\n",
    "\n",
    "# Predict on test set and evaluate accuracy\n",
    "test_pred = lr_model.predict(test_X)\n",
    "accuracy = accuracy_score(test_y, test_pred)\n",
    "print(\"Accuracy:\", accuracy)"
   ]
  },
  {
   "cell_type": "code",
   "execution_count": 12,
   "id": "52a0ecdd",
   "metadata": {},
   "outputs": [
    {
     "name": "stdout",
     "output_type": "stream",
     "text": [
      "Accuracy: 0.9458333333333333\n"
     ]
    },
    {
     "name": "stderr",
     "output_type": "stream",
     "text": [
      "C:\\Users\\HP\\AppData\\Local\\Temp/ipykernel_11720/3773552005.py:10: FutureWarning: The default value of numeric_only in DataFrame.median is deprecated. In a future version, it will default to False. In addition, specifying 'numeric_only=None' is deprecated. Select only valid columns or specify the value of numeric_only to silence this warning.\n",
      "  pokemon_df.fillna(pokemon_df.median(), inplace=True)\n"
     ]
    }
   ],
   "source": [
    "import pandas as pd\n",
    "from sklearn.model_selection import train_test_split\n",
    "from sklearn.tree import DecisionTreeClassifier\n",
    "from sklearn.metrics import accuracy_score\n",
    "\n",
    "# load dataset\n",
    "pokemon_df = pd.read_csv('pokemon.csv')\n",
    "\n",
    "# handle missing values\n",
    "pokemon_df.fillna(pokemon_df.median(), inplace=True)\n",
    "\n",
    "# split data into training and testing sets\n",
    "X = pokemon_df.drop(['Name', 'Type 1', 'Type 2', 'Legendary'], axis=1)\n",
    "y = pokemon_df['Legendary']\n",
    "X_train, X_test, y_train, y_test = train_test_split(X, y, test_size=0.3, random_state=1)\n",
    "\n",
    "# fit decision tree model\n",
    "model = DecisionTreeClassifier()\n",
    "model.fit(X_train, y_train)\n",
    "\n",
    "# predict on test set and calculate accuracy\n",
    "y_pred = model.predict(X_test)\n",
    "accuracy = accuracy_score(y_test, y_pred)\n",
    "print(\"Accuracy:\", accuracy)"
   ]
  },
  {
   "cell_type": "code",
   "execution_count": 18,
   "id": "9e34d0c2",
   "metadata": {},
   "outputs": [
    {
     "name": "stdout",
     "output_type": "stream",
     "text": [
      "Precision when target is False: 0.958904109589041\n"
     ]
    },
    {
     "name": "stderr",
     "output_type": "stream",
     "text": [
      "C:\\Users\\HP\\AppData\\Local\\Temp/ipykernel_11720/2376922313.py:10: FutureWarning: The default value of numeric_only in DataFrame.median is deprecated. In a future version, it will default to False. In addition, specifying 'numeric_only=None' is deprecated. Select only valid columns or specify the value of numeric_only to silence this warning.\n",
      "  df.fillna(df.median(), inplace=True)\n"
     ]
    }
   ],
   "source": [
    "from sklearn.tree import DecisionTreeClassifier\n",
    "from sklearn.metrics import precision_score\n",
    "from sklearn.model_selection import train_test_split\n",
    "import pandas as pd\n",
    "\n",
    "# load the dataset\n",
    "df = pd.read_csv('pokemon.csv')\n",
    "\n",
    "# handle missing values\n",
    "df.fillna(df.median(), inplace=True)\n",
    "df.columns\n",
    "# split the dataset into train and test sets\n",
    "X_train, X_test, y_train, y_test = train_test_split(df.drop(['#', 'Name', 'Type 1', 'Type 2', 'Legendary'], axis=1), \n",
    "                                                    df['Legendary'], test_size=0.3, random_state=1)\n",
    "\n",
    "# fit the decision tree model\n",
    "dt = DecisionTreeClassifier()\n",
    "dt.fit(X_train, y_train)\n",
    "\n",
    "# make predictions on the test set\n",
    "y_pred = dt.predict(X_test)\n",
    "\n",
    "# calculate the precision score when target is False\n",
    "precision = precision_score(y_test, y_pred, pos_label=False)\n",
    "print('Precision when target is False:', precision)"
   ]
  },
  {
   "cell_type": "code",
   "execution_count": 9,
   "id": "aef647bf",
   "metadata": {},
   "outputs": [
    {
     "name": "stdout",
     "output_type": "stream",
     "text": [
      "Sensitivity score: 0.5714285714285714\n"
     ]
    }
   ],
   "source": [
    "from sklearn.metrics import recall_score\n",
    "\n",
    "# Calculate the sensitivity (recall) score\n",
    "sensitivity = recall_score(y_test, y_pred, pos_label=True)\n",
    "\n",
    "print(\"Sensitivity score:\", sensitivity)\n"
   ]
  },
  {
   "cell_type": "code",
   "execution_count": 20,
   "id": "b6681cb7",
   "metadata": {},
   "outputs": [
    {
     "name": "stdout",
     "output_type": "stream",
     "text": [
      "Accuracy: 0.93\n"
     ]
    },
    {
     "name": "stderr",
     "output_type": "stream",
     "text": [
      "C:\\Users\\HP\\AppData\\Local\\Temp/ipykernel_11720/852909441.py:8: FutureWarning: The default value of numeric_only in DataFrame.median is deprecated. In a future version, it will default to False. In addition, specifying 'numeric_only=None' is deprecated. Select only valid columns or specify the value of numeric_only to silence this warning.\n",
      "  df.fillna(df.median(), inplace=True)\n"
     ]
    }
   ],
   "source": [
    "from sklearn.tree import DecisionTreeClassifier\n",
    "from sklearn.preprocessing import LabelEncoder\n",
    "\n",
    "# Encode the string data\n",
    "df = pd.read_csv('pokemon.csv')\n",
    "\n",
    "# handle missing values\n",
    "df.fillna(df.median(), inplace=True)\n",
    "df.columns\n",
    "# split the dataset into train and test sets\n",
    "X_train, X_test, y_train, y_test = train_test_split(df.drop(['#', 'Name', 'Type 1', 'Type 2', 'Legendary'], axis=1), \n",
    "                                                    df['Legendary'], test_size=0.3, random_state=1)\n",
    "# Create a Decision Tree classifier and fit it on the training set\n",
    "model = DecisionTreeClassifier(random_state=1)\n",
    "model.fit(X_train, y_train)\n",
    "\n",
    "# Predict on the test set\n",
    "y_pred = model.predict(X_test)\n",
    "\n",
    "# Evaluate the model\n",
    "accuracy = model.score(X_test, y_test)\n",
    "print(f\"Accuracy: {accuracy:.2f}\")"
   ]
  },
  {
   "cell_type": "code",
   "execution_count": 21,
   "id": "e75160d3",
   "metadata": {},
   "outputs": [
    {
     "name": "stdout",
     "output_type": "stream",
     "text": [
      "Number of misclassified data points: 17\n"
     ]
    }
   ],
   "source": [
    "cm = confusion_matrix(y_test, y_pred)\n",
    "\n",
    "# Calculate number of misclassified data points\n",
    "misclassified = cm[0, 1] + cm[1, 0]\n",
    "\n",
    "print(f\"Number of misclassified data points: {misclassified}\")"
   ]
  },
  {
   "cell_type": "code",
   "execution_count": 24,
   "id": "ec457527",
   "metadata": {},
   "outputs": [
    {
     "data": {
      "text/plain": [
       "Index(['age', 'workclass', 'fnlwgt', 'education', 'education-num',\n",
       "       'marital-status', 'occupation', 'relationship', 'race', 'sex',\n",
       "       'capital-gain', 'capital-loss', 'hours-per-week', 'native-country',\n",
       "       'annual_income'],\n",
       "      dtype='object')"
      ]
     },
     "execution_count": 24,
     "metadata": {},
     "output_type": "execute_result"
    }
   ],
   "source": [
    "df.columns"
   ]
  },
  {
   "cell_type": "code",
   "execution_count": 25,
   "id": "4152128f",
   "metadata": {},
   "outputs": [
    {
     "name": "stdout",
     "output_type": "stream",
     "text": [
      "Total population with income greater than 50K:  7841\n"
     ]
    }
   ],
   "source": [
    "import pandas as pd\n",
    "\n",
    "# Load the data into a Pandas DataFrame\n",
    "df = pd.read_csv('census-income .csv')\n",
    "\n",
    "# Filter the DataFrame to include only the rows where income is greater than 50K\n",
    "df_filtered = df[df['annual_income'] == '>50K']\n",
    "\n",
    "# Get the total population count\n",
    "total_population = df_filtered['age'].count()\n",
    "\n",
    "# Print the result\n",
    "print(\"Total population with income greater than 50K: \", total_population)"
   ]
  },
  {
   "cell_type": "code",
   "execution_count": 26,
   "id": "f060d6e1",
   "metadata": {},
   "outputs": [
    {
     "name": "stdout",
     "output_type": "stream",
     "text": [
      "Percentage of population with income greater than 50K:  24.080955744602438\n"
     ]
    }
   ],
   "source": [
    "import pandas as pd\n",
    "\n",
    "# Load the data into a Pandas DataFrame\n",
    "df = pd.read_csv('census-income .csv')\n",
    "\n",
    "# Filter the DataFrame to include only the rows where income is greater than 50K\n",
    "df_filtered = df[df['annual_income'] == '>50K']\n",
    "\n",
    "# Get the total population count\n",
    "total_population = df_filtered['age'].count()\n",
    "\n",
    "# Get the total number of rows in the original DataFrame\n",
    "total_rows = df['age'].count()\n",
    "\n",
    "# Calculate the percentage\n",
    "percentage = (total_population / total_rows) * 100\n",
    "\n",
    "# Print the result\n",
    "print(\"Percentage of population with income greater than 50K: \", percentage)"
   ]
  },
  {
   "cell_type": "code",
   "execution_count": 28,
   "id": "d900962e",
   "metadata": {},
   "outputs": [
    {
     "name": "stdout",
     "output_type": "stream",
     "text": [
      "Number of samples with unmarried marital status and less than 20 working hours:  0\n"
     ]
    }
   ],
   "source": [
    "\n",
    "# Filter the DataFrame to include only the rows where marital status is unmarried and working hours are less than 20\n",
    "df_filtered = df[(df['marital-status'] == 'unmarried') & (df['hours-per-week'] < 20)]\n",
    "\n",
    "# Get the count of the filtered DataFrame\n",
    "sample_count = df_filtered.shape[0]\n",
    "\n",
    "# Print the result\n",
    "print(\"Number of samples with unmarried marital status and less than 20 working hours: \", sample_count)"
   ]
  },
  {
   "cell_type": "code",
   "execution_count": 30,
   "id": "7fe10ee6",
   "metadata": {},
   "outputs": [
    {
     "name": "stdout",
     "output_type": "stream",
     "text": [
      "Minimum age: 17.0\n",
      "Maximum age: 90.0\n",
      "50th percentile of age: 37.0\n"
     ]
    }
   ],
   "source": [
    "import pandas as pd\n",
    "\n",
    "# Load the data into a Pandas DataFrame\n",
    "df = pd.read_csv('census-income .csv')\n",
    "\n",
    "# Compute the statistics of the 'age' column\n",
    "age_stats = df['age'].describe()\n",
    "\n",
    "# Extract the required statistics\n",
    "min_age = age_stats['min']\n",
    "max_age = age_stats['max']\n",
    "p50_age = age_stats['50%']\n",
    "\n",
    "# Print the result\n",
    "print(\"Minimum age:\", min_age)\n",
    "print(\"Maximum age:\", max_age)\n",
    "print(\"50th percentile of age:\", p50_age)"
   ]
  },
  {
   "cell_type": "code",
   "execution_count": 31,
   "id": "c8e7fed5",
   "metadata": {},
   "outputs": [
    {
     "name": "stdout",
     "output_type": "stream",
     "text": [
      "Country with highest population:  United-States\n",
      "Country with lowest population:  Holand-Netherlands\n"
     ]
    }
   ],
   "source": [
    "# Group the data by native-country and count the number of instances in each group\n",
    "country_counts = df.groupby('native-country').size().reset_index(name='count')\n",
    "\n",
    "# Sort the country counts in descending order to find the country with the highest population\n",
    "highest_population_country = country_counts.sort_values('count', ascending=False).iloc[0]['native-country']\n",
    "print(\"Country with highest population: \", highest_population_country)\n",
    "\n",
    "# Sort the country counts in ascending order to find the country with the lowest population\n",
    "lowest_population_country = country_counts.sort_values('count', ascending=True).iloc[0]['native-country']\n",
    "print(\"Country with lowest population: \", lowest_population_country)"
   ]
  },
  {
   "cell_type": "code",
   "execution_count": null,
   "id": "98ae7e27",
   "metadata": {},
   "outputs": [],
   "source": []
  }
 ],
 "metadata": {
  "kernelspec": {
   "display_name": "Python 3 (ipykernel)",
   "language": "python",
   "name": "python3"
  },
  "language_info": {
   "codemirror_mode": {
    "name": "ipython",
    "version": 3
   },
   "file_extension": ".py",
   "mimetype": "text/x-python",
   "name": "python",
   "nbconvert_exporter": "python",
   "pygments_lexer": "ipython3",
   "version": "3.9.7"
  }
 },
 "nbformat": 4,
 "nbformat_minor": 5
}
